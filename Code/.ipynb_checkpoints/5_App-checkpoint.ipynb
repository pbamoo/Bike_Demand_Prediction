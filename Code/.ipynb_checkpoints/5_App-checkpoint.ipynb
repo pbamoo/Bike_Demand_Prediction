{
 "cells": [
  {
   "cell_type": "markdown",
   "metadata": {},
   "source": [
    "### Building Simple Web Application"
   ]
  },
  {
   "cell_type": "code",
   "execution_count": 1,
   "metadata": {},
   "outputs": [],
   "source": [
    "#import necessary libraries\n",
    "import dash\n",
    "import dash_core_components as dcc\n",
    "import dash_html_components as html\n",
    "from dash.dependencies import Input, Output\n",
    "import plotly.graph_objs as go\n",
    "import plotly.express as px\n",
    "import joblib\n",
    "import numpy as np\n",
    "import pandas as pd\n",
    "import warnings\n",
    "warnings.filterwarnings('ignore')"
   ]
  },
  {
   "cell_type": "code",
   "execution_count": 2,
   "metadata": {},
   "outputs": [],
   "source": [
    "#Import dataset\n",
    "df = pd.read_csv('../data/train.csv', header = 0, error_bad_lines=False)\n",
    "df = df.set_index('datetime')"
   ]
  },
  {
   "cell_type": "code",
   "execution_count": 3,
   "metadata": {},
   "outputs": [],
   "source": [
    "#create the app instance\n",
    "app = dash.Dash(__name__)"
   ]
  },
  {
   "cell_type": "code",
   "execution_count": 4,
   "metadata": {},
   "outputs": [],
   "source": [
    "#import an external CSS file : for our app to look a bit nicer\n",
    "app.css.append_css({\n",
    "    'external_url': 'https://codepen.io/chriddyp/pen/bWLwgP.css'\n",
    "})"
   ]
  },
  {
   "cell_type": "markdown",
   "metadata": {},
   "source": [
    "### 4. Load the trained objects"
   ]
  },
  {
   "cell_type": "code",
   "execution_count": 5,
   "metadata": {},
   "outputs": [],
   "source": [
    "model = joblib.load('bike-model.joblib')\n",
    "pca = joblib.load('pca.joblib')\n",
    "scaler = joblib.load('scaler.joblib')"
   ]
  },
  {
   "cell_type": "markdown",
   "metadata": {},
   "source": [
    "### 5. Build the input components and their respective divs\n",
    " We will use input boxes to input the values of numerical features and drop-down menus for the categorical ones. We will place each of the nine inputs (6 numerical & 3 categorical) in its own four-column div."
   ]
  },
  {
   "cell_type": "code",
   "execution_count": 6,
   "metadata": {},
   "outputs": [],
   "source": [
    "numerical_features = ['month', 'hour', 'temp', 'atemp', 'humidity','windspeed', 'count']\n",
    "options_dropdown = [{'label':x.upper(), 'value':x} for x in numerical_features]\n",
    "\n",
    "dd_x_var = dcc.Dropdown(\n",
    "        id='x-var',\n",
    "        options = options_dropdown,\n",
    "        value = 'temp'\n",
    "        )\n",
    "\n",
    "div_x_var = html.Div(\n",
    "        children=[html.H4('Variable for x axis: '), dd_x_var],\n",
    "        className=\"six columns\"\n",
    "        )\n",
    "\n",
    "dd_y_var = dcc.Dropdown(\n",
    "        id='y-var',\n",
    "        options = options_dropdown,\n",
    "        value = 'count'\n",
    "        ) \n",
    "\n",
    "div_y_var = html.Div(\n",
    "        children=[html.H4('Variable for y axis: '), dd_y_var],\n",
    "        className=\"six columns\"\n",
    "        )"
   ]
  },
  {
   "cell_type": "code",
   "execution_count": 7,
   "metadata": {},
   "outputs": [],
   "source": [
    "### 1. For numerical features\n",
    "\n",
    "## Div for month\n",
    "input_month = dcc.Input(\n",
    "    id='month',\n",
    "    type='numeric',\n",
    "    value=1)\n",
    "\n",
    "div_month = html.Div(\n",
    "        children=[html.H3('month:'), input_month],\n",
    "        className=\"four columns\"\n",
    "        )\n",
    "\n",
    "## Div for hour\n",
    "input_hour = dcc.Input(\n",
    "    id='hour',\n",
    "    placeholder='',\n",
    "    type='numeric',\n",
    "    value=4)\n",
    "\n",
    "div_hour = html.Div(\n",
    "        children=[html.H3('hour:'), input_hour],\n",
    "        className=\"four columns\"\n",
    "        )\n",
    "\n",
    "## Div for temp\n",
    "input_temp = dcc.Input(\n",
    "    id='temp',\n",
    "    type='numeric',\n",
    "    value=9.84)\n",
    "\n",
    "div_temp = html.Div(\n",
    "        children=[html.H3('temp:'), input_temp],\n",
    "        className=\"four columns\"\n",
    "        )\n",
    "\n",
    "## Div for atemp\n",
    "input_atemp = dcc.Input(\n",
    "    id='atemp',\n",
    "    placeholder='',\n",
    "    type='numeric',\n",
    "    value=14.40)\n",
    "\n",
    "div_atemp = html.Div(\n",
    "        children=[html.H3('atemp:'), input_atemp],\n",
    "        className=\"four columns\"\n",
    "        )\n",
    "\n",
    "## Div for humidity\n",
    "input_humidity = dcc.Input(\n",
    "    id='humidity', \n",
    "    placeholder='',\n",
    "    type='numeric',\n",
    "    value=81)\n",
    "\n",
    "div_humidity = html.Div(\n",
    "        children=[html.H3('humidity:'), input_humidity],\n",
    "        className=\"four columns\"\n",
    "        )\n",
    "\n",
    "## Div for windspeed\n",
    "input_windspeed = dcc.Input(\n",
    "    id='windspeed', \n",
    "    placeholder='',\n",
    "    type='numeric',\n",
    "    value=0.0)\n",
    "\n",
    "div_windspeed = html.Div(\n",
    "        children=[html.H3('windspeed: '), input_windspeed],\n",
    "        className=\"four columns\"\n",
    "        )"
   ]
  },
  {
   "cell_type": "code",
   "execution_count": 8,
   "metadata": {},
   "outputs": [],
   "source": [
    "### 2. For categorical features\n",
    "\n",
    "## Div for day_typ\n",
    "day_typ_values = ['weekend', 'holiday', 'workday']\n",
    "day_typ_options = [{'label': x, 'value': x} for x in day_typ_values]\n",
    "input_day_typ = dcc.Dropdown(\n",
    "    id='day_typ',\n",
    "    options = day_typ_options,\n",
    "    value = 'workday'\n",
    "    )\n",
    "\n",
    "div_day_typ = html.Div(\n",
    "        children=[html.H3('day_typ:'), input_day_typ],\n",
    "        className=\"four columns\"\n",
    "        )\n",
    "\n",
    "## Div for season\n",
    "season_values = ['1', '2', '3', '4']\n",
    "season_options = [{'label': x, 'value': x} for x in season_values]\n",
    "input_season = dcc.Dropdown(\n",
    "    id='season', \n",
    "    options = season_options,\n",
    "    value = '1'\n",
    "    )\n",
    "\n",
    "div_season = html.Div(\n",
    "        children=[html.H3('season:'), input_season],\n",
    "        className=\"four columns\"\n",
    "        )\n",
    "\n",
    "## Div for weather\n",
    "weather_values = ['1', '2', '3', '4']\n",
    "weather_options = [{'label': x, 'value': x} for x in weather_values]\n",
    "input_weather = dcc.Dropdown(\n",
    "    id='weather', \n",
    "    options = weather_options,\n",
    "    value = '1'\n",
    "    )\n",
    "\n",
    "div_weather = html.Div(\n",
    "        children=[html.H3('weather:'), input_weather],\n",
    "        className=\"four columns\"\n",
    "        )"
   ]
  },
  {
   "cell_type": "code",
   "execution_count": 9,
   "metadata": {},
   "outputs": [],
   "source": [
    "#### Further group the nine inputs into two sub-groups & use a div for each group:\n",
    "## Div for numerical characteristics\n",
    "div_numerical = html.Div(\n",
    "        children = [div_month, div_hour, div_temp, div_atemp, div_humidity, div_windspeed],\n",
    "       className=\"row\"\n",
    "        )\n",
    "\n",
    "## Div for categorical features\n",
    "div_categorical = html.Div(\n",
    "        children = [div_day_typ, div_season, div_weather],\n",
    "        className=\"row\"\n",
    "        )"
   ]
  },
  {
   "cell_type": "markdown",
   "metadata": {},
   "source": [
    "### 6. Build the prediction function"
   ]
  },
  {
   "cell_type": "code",
   "execution_count": 10,
   "metadata": {},
   "outputs": [],
   "source": [
    "def get_prediction(month, hour, temp, atemp, humidity, windspeed, day_typ, season, weather):\n",
    "    '''takes the inputs from the user and produces the count prediction'''\n",
    "    \n",
    "    cols = ['month', 'hour', 'humidity', 'windspeed', 'season_1', 'season_2', 'season_3', 'season_4', 'day_typ_holiday', \n",
    "            'day_typ_weekend', 'day_typ_workday', 'weather_1', 'weather_2', 'weather_3', 'weather_4','mtemp']\n",
    "\n",
    "    day_typ_dict = {x: 'day_typ_' + x for x in day_typ_values[1:]}\n",
    "    season_dict = {x: 'season_' + x for x in season_values[1:]}\n",
    "    weather_dict = {x: 'weather_' + x for x in weather_values[1:]}\n",
    "    \n",
    "    ## produce a dataframe with a single row of zeros\n",
    "    df = pd.DataFrame(data = np.zeros((1,len(cols))), columns = cols)\n",
    "    \n",
    "    ## get the numeric characteristics\n",
    "    df.loc[0,'month'] = month\n",
    "    df.loc[0,'hour'] = hour\n",
    "    df.loc[0,'temp'] = temp\n",
    "    df.loc[0,'atemp'] = atemp\n",
    "    df.loc[0,'humidity'] = humidity\n",
    "    df.loc[0,'windspeed'] = windspeed\n",
    "    \n",
    "    ## transform dimensions into a single mtemp using PCA\n",
    "    dims_df = pd.DataFrame(data=[[temp, atemp]], columns=['temp', 'atemp'])\n",
    "    df.loc[0,'mtemp'] = pca.transform(dims_df).flatten()[0]\n",
    "    \n",
    "    ## Use the one-hot encoding for the categorical features\n",
    "    if day_typ!='weekend':\n",
    "        df.loc[0, day_typ_dict[day_typ]] = 1\n",
    "    \n",
    "    if season!='2':\n",
    "        df.loc[0, season_dict[season]] = 1\n",
    "    \n",
    "    if weather != '2':\n",
    "        df.loc[0, weather_dict[weather]] = 1\n",
    "    \n",
    "    ## Scale the numerical features using the trained scaler\n",
    "    numerical_features = ['humidity', 'windspeed', 'mtemp']\n",
    "    df.loc[:,numerical_features] = scaler.transform(df.loc[:,numerical_features])\n",
    "    \n",
    "    ## Get the predictions using our trained neural network\n",
    "    prediction = model.predict(df.values).flatten()[0]\n",
    "    \n",
    "    ## Transform the log-counts to counts\n",
    "    prediction = np.exp(prediction)\n",
    "   \n",
    "    return int(prediction)\n",
    "    "
   ]
  },
  {
   "cell_type": "markdown",
   "metadata": {},
   "source": [
    "### 7. Create the layout of the application"
   ]
  },
  {
   "cell_type": "code",
   "execution_count": 11,
   "metadata": {},
   "outputs": [],
   "source": [
    "# for histogram\n",
    "trace = go.Histogram(\n",
    "    x = df['count']\n",
    "    )\n",
    "\n",
    "layout = go.Layout(\n",
    "    title = 'Bike Demand Distribution',\n",
    "    xaxis = dict(title='Demand'),\n",
    "    yaxis = dict(title='Count')\n",
    "    )\n",
    "\n",
    "figure = go.Figure(\n",
    "    data = [trace],\n",
    "    layout = layout\n",
    "    )"
   ]
  },
  {
   "cell_type": "code",
   "execution_count": 12,
   "metadata": {},
   "outputs": [],
   "source": [
    "## App layout\n",
    "app.layout = html.Div([\n",
    "        html.H1('IDR Predict bike counts'),\n",
    "        \n",
    "        html.H2('1. Enter the bike characteristics to get the predicted count'),\n",
    "        \n",
    "        html.Div(\n",
    "                children=[div_numerical, div_categorical]\n",
    "                ),\n",
    "        html.H1(id='output',\n",
    "                style={'margin-top': '50px', 'text-align': 'center'}),\n",
    "        html.H2('2. Interactive scatter plot of the numerical features'),\n",
    "        html.P('Select your x and y features to view plot'),\n",
    "        html.Div(\n",
    "                children=[div_x_var, div_y_var],\n",
    "                className=\"row\"\n",
    "                ), \n",
    "        dcc.Graph(id='scatter'),\n",
    "        html.H2('3. Distribution of bike counts'),\n",
    "        html.P('This is the original distribution of the bike counts.'), \n",
    "        dcc.Graph(id='histogram', figure=figure)\n",
    "        ])"
   ]
  },
  {
   "cell_type": "markdown",
   "metadata": {},
   "source": [
    "### 8.  Build the decorator (callback)"
   ]
  },
  {
   "cell_type": "code",
   "execution_count": 13,
   "metadata": {},
   "outputs": [],
   "source": [
    "#for predictor\n",
    "predictors = ['month', 'hour', 'temp', 'atemp', 'humidity', 'windspeed', 'day_typ', 'season', 'weather']\n",
    "@app.callback(\n",
    "        Output('output', 'children'),\n",
    "        [Input(x, 'value') for x in predictors])\n",
    "\n",
    "def show_prediction(month, hour, temp, atemp, humidity, windspeed, day_typ, season, weather): \n",
    "    pred = get_prediction(month, hour, temp, atemp, humidity, windspeed, day_typ, season, weather)\n",
    "    return str(\"Predicted count: {:,}\".format(pred))"
   ]
  },
  {
   "cell_type": "code",
   "execution_count": 14,
   "metadata": {},
   "outputs": [],
   "source": [
    "# for scatter plot\n",
    "@app.callback(\n",
    "        Output(component_id='scatter', component_property='figure'),\n",
    "        [Input(component_id='x-var', component_property='value'), Input(component_id='y-var', component_property='value')])\n",
    "\n",
    "\n",
    "def scatter_plot(x_col, y_col):\n",
    "    trace = go.Scatter(\n",
    "            x = df[x_col],\n",
    "            y = df[y_col],\n",
    "            mode = 'markers'\n",
    "            )\n",
    "    \n",
    "    layout = go.Layout(\n",
    "            title = 'Scatter plot',\n",
    "            xaxis = dict(title = x_col.upper()),\n",
    "            yaxis = dict(title = y_col.upper())\n",
    "            )\n",
    "    \n",
    "    output_plot = go.Figure(\n",
    "            data = [trace],\n",
    "            layout = layout\n",
    "            )\n",
    "    \n",
    "    return output_plot"
   ]
  },
  {
   "cell_type": "markdown",
   "metadata": {},
   "source": [
    "### 9. Code to run the server"
   ]
  },
  {
   "cell_type": "code",
   "execution_count": 15,
   "metadata": {
    "scrolled": true
   },
   "outputs": [
    {
     "name": "stdout",
     "output_type": "stream",
     "text": [
      "Dash is running on http://127.0.0.1:8050/\n",
      "\n",
      " * Serving Flask app \"__main__\" (lazy loading)\n",
      " * Environment: production\n",
      "   WARNING: This is a development server. Do not use it in a production deployment.\n",
      "   Use a production WSGI server instead.\n",
      " * Debug mode: off\n"
     ]
    },
    {
     "name": "stderr",
     "output_type": "stream",
     "text": [
      " * Running on http://127.0.0.1:8050/ (Press CTRL+C to quit)\n",
      "127.0.0.1 - - [04/Jun/2021 01:32:10] \"\u001b[37mGET / HTTP/1.1\u001b[0m\" 200 -\n",
      "127.0.0.1 - - [04/Jun/2021 01:32:10] \"\u001b[37mGET /_dash-dependencies HTTP/1.1\u001b[0m\" 200 -\n",
      "127.0.0.1 - - [04/Jun/2021 01:32:10] \"\u001b[37mGET /_favicon.ico?v=1.18.1 HTTP/1.1\u001b[0m\" 200 -\n",
      "127.0.0.1 - - [04/Jun/2021 01:32:10] \"\u001b[37mGET /_dash-layout HTTP/1.1\u001b[0m\" 200 -\n"
     ]
    },
    {
     "name": "stdout",
     "output_type": "stream",
     "text": [
      "Exception on /_dash-update-component [POST]\n",
      "Traceback (most recent call last):\n",
      "  File \"C:\\Users\\pbamo\\anaconda3\\lib\\site-packages\\flask\\app.py\", line 2447, in wsgi_app\n",
      "    response = self.full_dispatch_request()\n",
      "  File \"C:\\Users\\pbamo\\anaconda3\\lib\\site-packages\\flask\\app.py\", line 1952, in full_dispatch_request\n",
      "    rv = self.handle_user_exception(e)\n",
      "  File \"C:\\Users\\pbamo\\anaconda3\\lib\\site-packages\\flask\\app.py\", line 1821, in handle_user_exception\n",
      "    reraise(exc_type, exc_value, tb)\n",
      "  File \"C:\\Users\\pbamo\\anaconda3\\lib\\site-packages\\flask\\_compat.py\", line 39, in reraise\n",
      "    raise value\n",
      "  File \"C:\\Users\\pbamo\\anaconda3\\lib\\site-packages\\flask\\app.py\", line 1950, in full_dispatch_request\n",
      "    rv = self.dispatch_request()\n",
      "  File \"C:\\Users\\pbamo\\anaconda3\\lib\\site-packages\\flask\\app.py\", line 1936, in dispatch_request\n",
      "    return self.view_functions[rule.endpoint](**req.view_args)\n",
      "  File \"C:\\Users\\pbamo\\anaconda3\\lib\\site-packages\\dash\\dash.py\", line 1076, in dispatch\n",
      "    response.set_data(func(*args, outputs_list=outputs_list))\n",
      "  File \"C:\\Users\\pbamo\\anaconda3\\lib\\site-packages\\dash\\dash.py\", line 1007, in add_context\n",
      "    output_value = func(*args, **kwargs)  # %% callback invoked %%\n",
      "  File \"<ipython-input-13-75ab286b0611>\", line 8, in show_prediction\n",
      "    pred = get_prediction(month, hour, temp, atemp, humidity, windspeed, day_typ, season, weather)\n",
      "  File \"<ipython-input-10-9dcf3f5e6c54>\", line 31, in get_prediction\n",
      "    df.loc[0, season_dict[season]] = 1\n",
      "KeyError: '1'\n"
     ]
    },
    {
     "name": "stderr",
     "output_type": "stream",
     "text": [
      "127.0.0.1 - - [04/Jun/2021 01:32:10] \"\u001b[35m\u001b[1mPOST /_dash-update-component HTTP/1.1\u001b[0m\" 500 -\n",
      "127.0.0.1 - - [04/Jun/2021 01:32:10] \"\u001b[37mPOST /_dash-update-component HTTP/1.1\u001b[0m\" 200 -\n"
     ]
    }
   ],
   "source": [
    "if __name__ == '__main__':\n",
    "    app.run_server(debug=False) #setting debug as false instead of true works"
   ]
  },
  {
   "cell_type": "markdown",
   "metadata": {},
   "source": [
    "The aim was to build a basic web app a user can input the details and the model will predict the number of bikes that will be in demand at a particular time, the app is semi operational, some minor tweaks are needed to get the prediction aspect going as well as modify the layout to have different pages with different info."
   ]
  },
  {
   "cell_type": "code",
   "execution_count": null,
   "metadata": {},
   "outputs": [],
   "source": []
  },
  {
   "cell_type": "code",
   "execution_count": null,
   "metadata": {},
   "outputs": [],
   "source": []
  }
 ],
 "metadata": {
  "kernelspec": {
   "display_name": "Python 3",
   "language": "python",
   "name": "python3"
  },
  "language_info": {
   "codemirror_mode": {
    "name": "ipython",
    "version": 3
   },
   "file_extension": ".py",
   "mimetype": "text/x-python",
   "name": "python",
   "nbconvert_exporter": "python",
   "pygments_lexer": "ipython3",
   "version": "3.7.6"
  }
 },
 "nbformat": 4,
 "nbformat_minor": 4
}
