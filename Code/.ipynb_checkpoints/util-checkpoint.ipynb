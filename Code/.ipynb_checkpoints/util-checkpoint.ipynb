{
 "cells": [
  {
   "cell_type": "markdown",
   "metadata": {},
   "source": [
    "## Bike rental demand prediction using Machine Learning"
   ]
  },
  {
   "cell_type": "markdown",
   "metadata": {},
   "source": [
    "### Preprocessing: \n",
    "To make the data suitable for machine learning, we are going to do some preprocessing, including, handling missing data, transform some columns, etc.\n",
    "\n",
    "* Use One hot encoding or pd.get_dummies() to convert ordinal, binary and all other categorical columns to numeric\n",
    "* Data Transformation (Optional): Standardization/Normalization/log/sqrt especially if you are using distance based algorithms like KNN, or Neural Networks.\n"
   ]
  },
  {
   "cell_type": "markdown",
   "metadata": {},
   "source": [
    "### Import libraries"
   ]
  },
  {
   "cell_type": "code",
   "execution_count": 19,
   "metadata": {},
   "outputs": [],
   "source": [
    "import pandas as pd\n",
    "import numpy as np\n",
    "import matplotlib.pyplot as plt\n",
    "import seaborn as sns\n",
    "import joblib\n",
    "import warnings\n",
    "warnings.filterwarnings('ignore')"
   ]
  },
  {
   "cell_type": "code",
   "execution_count": 2,
   "metadata": {
    "scrolled": true
   },
   "outputs": [
    {
     "data": {
      "text/html": [
       "<div>\n",
       "<style scoped>\n",
       "    .dataframe tbody tr th:only-of-type {\n",
       "        vertical-align: middle;\n",
       "    }\n",
       "\n",
       "    .dataframe tbody tr th {\n",
       "        vertical-align: top;\n",
       "    }\n",
       "\n",
       "    .dataframe thead th {\n",
       "        text-align: right;\n",
       "    }\n",
       "</style>\n",
       "<table border=\"1\" class=\"dataframe\">\n",
       "  <thead>\n",
       "    <tr style=\"text-align: right;\">\n",
       "      <th></th>\n",
       "      <th>datetime</th>\n",
       "      <th>season</th>\n",
       "      <th>holiday</th>\n",
       "      <th>workingday</th>\n",
       "      <th>weather</th>\n",
       "      <th>temp</th>\n",
       "      <th>atemp</th>\n",
       "      <th>humidity</th>\n",
       "      <th>windspeed</th>\n",
       "      <th>casual</th>\n",
       "      <th>registered</th>\n",
       "      <th>count</th>\n",
       "    </tr>\n",
       "  </thead>\n",
       "  <tbody>\n",
       "    <tr>\n",
       "      <th>0</th>\n",
       "      <td>2011-01-01 00:00:00</td>\n",
       "      <td>1</td>\n",
       "      <td>0</td>\n",
       "      <td>0</td>\n",
       "      <td>1</td>\n",
       "      <td>9.84</td>\n",
       "      <td>14.395</td>\n",
       "      <td>81</td>\n",
       "      <td>0.0</td>\n",
       "      <td>3</td>\n",
       "      <td>13</td>\n",
       "      <td>16</td>\n",
       "    </tr>\n",
       "    <tr>\n",
       "      <th>1</th>\n",
       "      <td>2011-01-01 01:00:00</td>\n",
       "      <td>1</td>\n",
       "      <td>0</td>\n",
       "      <td>0</td>\n",
       "      <td>1</td>\n",
       "      <td>9.02</td>\n",
       "      <td>13.635</td>\n",
       "      <td>80</td>\n",
       "      <td>0.0</td>\n",
       "      <td>8</td>\n",
       "      <td>32</td>\n",
       "      <td>40</td>\n",
       "    </tr>\n",
       "    <tr>\n",
       "      <th>2</th>\n",
       "      <td>2011-01-01 02:00:00</td>\n",
       "      <td>1</td>\n",
       "      <td>0</td>\n",
       "      <td>0</td>\n",
       "      <td>1</td>\n",
       "      <td>9.02</td>\n",
       "      <td>13.635</td>\n",
       "      <td>80</td>\n",
       "      <td>0.0</td>\n",
       "      <td>5</td>\n",
       "      <td>27</td>\n",
       "      <td>32</td>\n",
       "    </tr>\n",
       "    <tr>\n",
       "      <th>3</th>\n",
       "      <td>2011-01-01 03:00:00</td>\n",
       "      <td>1</td>\n",
       "      <td>0</td>\n",
       "      <td>0</td>\n",
       "      <td>1</td>\n",
       "      <td>9.84</td>\n",
       "      <td>14.395</td>\n",
       "      <td>75</td>\n",
       "      <td>0.0</td>\n",
       "      <td>3</td>\n",
       "      <td>10</td>\n",
       "      <td>13</td>\n",
       "    </tr>\n",
       "    <tr>\n",
       "      <th>4</th>\n",
       "      <td>2011-01-01 04:00:00</td>\n",
       "      <td>1</td>\n",
       "      <td>0</td>\n",
       "      <td>0</td>\n",
       "      <td>1</td>\n",
       "      <td>9.84</td>\n",
       "      <td>14.395</td>\n",
       "      <td>75</td>\n",
       "      <td>0.0</td>\n",
       "      <td>0</td>\n",
       "      <td>1</td>\n",
       "      <td>1</td>\n",
       "    </tr>\n",
       "  </tbody>\n",
       "</table>\n",
       "</div>"
      ],
      "text/plain": [
       "              datetime  season  holiday  workingday  weather  temp   atemp  \\\n",
       "0  2011-01-01 00:00:00       1        0           0        1  9.84  14.395   \n",
       "1  2011-01-01 01:00:00       1        0           0        1  9.02  13.635   \n",
       "2  2011-01-01 02:00:00       1        0           0        1  9.02  13.635   \n",
       "3  2011-01-01 03:00:00       1        0           0        1  9.84  14.395   \n",
       "4  2011-01-01 04:00:00       1        0           0        1  9.84  14.395   \n",
       "\n",
       "   humidity  windspeed  casual  registered  count  \n",
       "0        81        0.0       3          13     16  \n",
       "1        80        0.0       8          32     40  \n",
       "2        80        0.0       5          27     32  \n",
       "3        75        0.0       3          10     13  \n",
       "4        75        0.0       0           1      1  "
      ]
     },
     "execution_count": 2,
     "metadata": {},
     "output_type": "execute_result"
    }
   ],
   "source": [
    "df = pd.read_csv('../data/train.csv', header = 0, error_bad_lines=False)\n",
    "df.head()"
   ]
  },
  {
   "cell_type": "code",
   "execution_count": 3,
   "metadata": {
    "scrolled": true
   },
   "outputs": [
    {
     "data": {
      "text/plain": [
       "datetime      10886\n",
       "season            4\n",
       "holiday           2\n",
       "workingday        2\n",
       "weather           4\n",
       "temp             49\n",
       "atemp            60\n",
       "humidity         89\n",
       "windspeed        28\n",
       "casual          309\n",
       "registered      731\n",
       "count           822\n",
       "dtype: int64"
      ]
     },
     "execution_count": 3,
     "metadata": {},
     "output_type": "execute_result"
    }
   ],
   "source": [
    "df.nunique()"
   ]
  },
  {
   "cell_type": "code",
   "execution_count": 4,
   "metadata": {},
   "outputs": [],
   "source": [
    "## parse_datetime\n",
    "\n",
    "# Convert the datetime col in datetime format\n",
    "df['datetime'] = pd.to_datetime(df.datetime)\n",
    "\n",
    "# extract month, day, , and hour from datetime\n",
    "df['month'] = df['datetime'].dt.month\n",
    "df['hour'] = df['datetime'].dt.hour\n",
    "\n",
    "#rearrange columns\n",
    "df = df.set_index('datetime')\n",
    "df = df[['month', 'hour','season','holiday','workingday','weather','temp','atemp','humidity','windspeed','casual','registered','count']]"
   ]
  },
  {
   "cell_type": "code",
   "execution_count": 5,
   "metadata": {},
   "outputs": [],
   "source": [
    "##feature_transformation (Creat a new variable having categories like weekend, holiday & working day) \n",
    "\n",
    "df.loc[(df['holiday']==0) & (df['workingday']==0),'day_typ'] = 'weekend'\n",
    "df.loc[(df['holiday']==1),'day_typ'] = 'holiday'\n",
    "df.loc[(df['holiday']==0) & (df['workingday']==1),'day_typ'] = 'workday'\n"
   ]
  },
  {
   "cell_type": "code",
   "execution_count": 6,
   "metadata": {},
   "outputs": [],
   "source": [
    "#Create dummies for each variable in one_hot_var and merging dummies dataframe to our original dataframe\n",
    "cat_features = ['season','day_typ','weather']\n",
    "\n",
    "for i in cat_features:\n",
    "    init = pd.get_dummies(df[i], prefix = i)\n",
    "    df = df.join(init)"
   ]
  },
  {
   "cell_type": "code",
   "execution_count": 7,
   "metadata": {},
   "outputs": [
    {
     "data": {
      "text/html": [
       "<div>\n",
       "<style scoped>\n",
       "    .dataframe tbody tr th:only-of-type {\n",
       "        vertical-align: middle;\n",
       "    }\n",
       "\n",
       "    .dataframe tbody tr th {\n",
       "        vertical-align: top;\n",
       "    }\n",
       "\n",
       "    .dataframe thead th {\n",
       "        text-align: right;\n",
       "    }\n",
       "</style>\n",
       "<table border=\"1\" class=\"dataframe\">\n",
       "  <thead>\n",
       "    <tr style=\"text-align: right;\">\n",
       "      <th></th>\n",
       "      <th>month</th>\n",
       "      <th>hour</th>\n",
       "      <th>season</th>\n",
       "      <th>holiday</th>\n",
       "      <th>workingday</th>\n",
       "      <th>weather</th>\n",
       "      <th>temp</th>\n",
       "      <th>atemp</th>\n",
       "      <th>humidity</th>\n",
       "      <th>windspeed</th>\n",
       "      <th>...</th>\n",
       "      <th>season_2</th>\n",
       "      <th>season_3</th>\n",
       "      <th>season_4</th>\n",
       "      <th>day_typ_holiday</th>\n",
       "      <th>day_typ_weekend</th>\n",
       "      <th>day_typ_workday</th>\n",
       "      <th>weather_1</th>\n",
       "      <th>weather_2</th>\n",
       "      <th>weather_3</th>\n",
       "      <th>weather_4</th>\n",
       "    </tr>\n",
       "    <tr>\n",
       "      <th>datetime</th>\n",
       "      <th></th>\n",
       "      <th></th>\n",
       "      <th></th>\n",
       "      <th></th>\n",
       "      <th></th>\n",
       "      <th></th>\n",
       "      <th></th>\n",
       "      <th></th>\n",
       "      <th></th>\n",
       "      <th></th>\n",
       "      <th></th>\n",
       "      <th></th>\n",
       "      <th></th>\n",
       "      <th></th>\n",
       "      <th></th>\n",
       "      <th></th>\n",
       "      <th></th>\n",
       "      <th></th>\n",
       "      <th></th>\n",
       "      <th></th>\n",
       "      <th></th>\n",
       "    </tr>\n",
       "  </thead>\n",
       "  <tbody>\n",
       "    <tr>\n",
       "      <th>2011-01-01 00:00:00</th>\n",
       "      <td>1</td>\n",
       "      <td>0</td>\n",
       "      <td>1</td>\n",
       "      <td>0</td>\n",
       "      <td>0</td>\n",
       "      <td>1</td>\n",
       "      <td>9.84</td>\n",
       "      <td>14.395</td>\n",
       "      <td>81</td>\n",
       "      <td>0.0</td>\n",
       "      <td>...</td>\n",
       "      <td>0</td>\n",
       "      <td>0</td>\n",
       "      <td>0</td>\n",
       "      <td>0</td>\n",
       "      <td>1</td>\n",
       "      <td>0</td>\n",
       "      <td>1</td>\n",
       "      <td>0</td>\n",
       "      <td>0</td>\n",
       "      <td>0</td>\n",
       "    </tr>\n",
       "    <tr>\n",
       "      <th>2011-01-01 01:00:00</th>\n",
       "      <td>1</td>\n",
       "      <td>1</td>\n",
       "      <td>1</td>\n",
       "      <td>0</td>\n",
       "      <td>0</td>\n",
       "      <td>1</td>\n",
       "      <td>9.02</td>\n",
       "      <td>13.635</td>\n",
       "      <td>80</td>\n",
       "      <td>0.0</td>\n",
       "      <td>...</td>\n",
       "      <td>0</td>\n",
       "      <td>0</td>\n",
       "      <td>0</td>\n",
       "      <td>0</td>\n",
       "      <td>1</td>\n",
       "      <td>0</td>\n",
       "      <td>1</td>\n",
       "      <td>0</td>\n",
       "      <td>0</td>\n",
       "      <td>0</td>\n",
       "    </tr>\n",
       "    <tr>\n",
       "      <th>2011-01-01 02:00:00</th>\n",
       "      <td>1</td>\n",
       "      <td>2</td>\n",
       "      <td>1</td>\n",
       "      <td>0</td>\n",
       "      <td>0</td>\n",
       "      <td>1</td>\n",
       "      <td>9.02</td>\n",
       "      <td>13.635</td>\n",
       "      <td>80</td>\n",
       "      <td>0.0</td>\n",
       "      <td>...</td>\n",
       "      <td>0</td>\n",
       "      <td>0</td>\n",
       "      <td>0</td>\n",
       "      <td>0</td>\n",
       "      <td>1</td>\n",
       "      <td>0</td>\n",
       "      <td>1</td>\n",
       "      <td>0</td>\n",
       "      <td>0</td>\n",
       "      <td>0</td>\n",
       "    </tr>\n",
       "    <tr>\n",
       "      <th>2011-01-01 03:00:00</th>\n",
       "      <td>1</td>\n",
       "      <td>3</td>\n",
       "      <td>1</td>\n",
       "      <td>0</td>\n",
       "      <td>0</td>\n",
       "      <td>1</td>\n",
       "      <td>9.84</td>\n",
       "      <td>14.395</td>\n",
       "      <td>75</td>\n",
       "      <td>0.0</td>\n",
       "      <td>...</td>\n",
       "      <td>0</td>\n",
       "      <td>0</td>\n",
       "      <td>0</td>\n",
       "      <td>0</td>\n",
       "      <td>1</td>\n",
       "      <td>0</td>\n",
       "      <td>1</td>\n",
       "      <td>0</td>\n",
       "      <td>0</td>\n",
       "      <td>0</td>\n",
       "    </tr>\n",
       "    <tr>\n",
       "      <th>2011-01-01 04:00:00</th>\n",
       "      <td>1</td>\n",
       "      <td>4</td>\n",
       "      <td>1</td>\n",
       "      <td>0</td>\n",
       "      <td>0</td>\n",
       "      <td>1</td>\n",
       "      <td>9.84</td>\n",
       "      <td>14.395</td>\n",
       "      <td>75</td>\n",
       "      <td>0.0</td>\n",
       "      <td>...</td>\n",
       "      <td>0</td>\n",
       "      <td>0</td>\n",
       "      <td>0</td>\n",
       "      <td>0</td>\n",
       "      <td>1</td>\n",
       "      <td>0</td>\n",
       "      <td>1</td>\n",
       "      <td>0</td>\n",
       "      <td>0</td>\n",
       "      <td>0</td>\n",
       "    </tr>\n",
       "  </tbody>\n",
       "</table>\n",
       "<p>5 rows × 25 columns</p>\n",
       "</div>"
      ],
      "text/plain": [
       "                     month  hour  season  holiday  workingday  weather  temp  \\\n",
       "datetime                                                                       \n",
       "2011-01-01 00:00:00      1     0       1        0           0        1  9.84   \n",
       "2011-01-01 01:00:00      1     1       1        0           0        1  9.02   \n",
       "2011-01-01 02:00:00      1     2       1        0           0        1  9.02   \n",
       "2011-01-01 03:00:00      1     3       1        0           0        1  9.84   \n",
       "2011-01-01 04:00:00      1     4       1        0           0        1  9.84   \n",
       "\n",
       "                      atemp  humidity  windspeed  ...  season_2  season_3  \\\n",
       "datetime                                          ...                       \n",
       "2011-01-01 00:00:00  14.395        81        0.0  ...         0         0   \n",
       "2011-01-01 01:00:00  13.635        80        0.0  ...         0         0   \n",
       "2011-01-01 02:00:00  13.635        80        0.0  ...         0         0   \n",
       "2011-01-01 03:00:00  14.395        75        0.0  ...         0         0   \n",
       "2011-01-01 04:00:00  14.395        75        0.0  ...         0         0   \n",
       "\n",
       "                     season_4 day_typ_holiday  day_typ_weekend  \\\n",
       "datetime                                                         \n",
       "2011-01-01 00:00:00         0               0                1   \n",
       "2011-01-01 01:00:00         0               0                1   \n",
       "2011-01-01 02:00:00         0               0                1   \n",
       "2011-01-01 03:00:00         0               0                1   \n",
       "2011-01-01 04:00:00         0               0                1   \n",
       "\n",
       "                     day_typ_workday  weather_1  weather_2  weather_3  \\\n",
       "datetime                                                                \n",
       "2011-01-01 00:00:00                0          1          0          0   \n",
       "2011-01-01 01:00:00                0          1          0          0   \n",
       "2011-01-01 02:00:00                0          1          0          0   \n",
       "2011-01-01 03:00:00                0          1          0          0   \n",
       "2011-01-01 04:00:00                0          1          0          0   \n",
       "\n",
       "                     weather_4  \n",
       "datetime                        \n",
       "2011-01-01 00:00:00          0  \n",
       "2011-01-01 01:00:00          0  \n",
       "2011-01-01 02:00:00          0  \n",
       "2011-01-01 03:00:00          0  \n",
       "2011-01-01 04:00:00          0  \n",
       "\n",
       "[5 rows x 25 columns]"
      ]
     },
     "execution_count": 7,
     "metadata": {},
     "output_type": "execute_result"
    }
   ],
   "source": [
    "df.head()"
   ]
  },
  {
   "cell_type": "code",
   "execution_count": 8,
   "metadata": {},
   "outputs": [],
   "source": [
    "##Train-Test Split\n",
    "from sklearn.model_selection import train_test_split\n",
    "\n",
    "X = df.drop(['season', 'holiday', 'day_typ','workingday','weather', 'casual', 'registered', 'count'], axis=1)\n",
    "y = df['count']\n",
    "X_train, X_test, y_train, y_test = train_test_split(X, y, test_size=0.1, random_state=42)\n"
   ]
  },
  {
   "cell_type": "code",
   "execution_count": 9,
   "metadata": {},
   "outputs": [],
   "source": [
    "##Dimensionality reduction using Principal Component Analysis (PCA)\n",
    "from sklearn.decomposition import PCA\n",
    "\n",
    "pca = PCA(n_components=1, random_state=42)\n",
    "X_train['mtemp'] = pca.fit_transform(X_train[['temp','atemp']]).flatten() #for X_train\n",
    "X_test['mtemp'] = pca.transform(X_test[['temp','atemp']]).flatten() #for X_test\n",
    "X_train.drop(['temp','atemp'], axis=1, inplace=True)\n",
    "X_test.drop(['temp','atemp'], axis=1, inplace=True)"
   ]
  },
  {
   "cell_type": "code",
   "execution_count": 10,
   "metadata": {},
   "outputs": [],
   "source": [
    "#feature scaling/normalization\n",
    "from sklearn.preprocessing import StandardScaler\n",
    "\n",
    "numerical_features = ['mtemp','humidity','windspeed']\n",
    "scaler = StandardScaler() \n",
    "scaler.fit(X_train[numerical_features])\n",
    "X_train.loc[:, numerical_features] = scaler.transform(X_train[numerical_features])\n",
    "X_test.loc[:, numerical_features] = scaler.transform(X_test[numerical_features])"
   ]
  },
  {
   "cell_type": "code",
   "execution_count": 11,
   "metadata": {},
   "outputs": [
    {
     "data": {
      "text/plain": [
       "((1089, 16), (9797, 16), (1089,), (9797,))"
      ]
     },
     "execution_count": 11,
     "metadata": {},
     "output_type": "execute_result"
    }
   ],
   "source": [
    "X_test.shape, X_train.shape, y_test.shape, y_train.shape"
   ]
  },
  {
   "cell_type": "markdown",
   "metadata": {},
   "source": [
    "### Build & Compare Different ML Regression Models"
   ]
  },
  {
   "cell_type": "code",
   "execution_count": 12,
   "metadata": {},
   "outputs": [
    {
     "data": {
      "text/plain": [
       "LinearRegression()"
      ]
     },
     "execution_count": 12,
     "metadata": {},
     "output_type": "execute_result"
    }
   ],
   "source": [
    "from sklearn.linear_model import LinearRegression\n",
    "LR = LinearRegression()\n",
    "LR.fit(X_train, y_train)"
   ]
  },
  {
   "cell_type": "code",
   "execution_count": 13,
   "metadata": {},
   "outputs": [
    {
     "data": {
      "text/plain": [
       "KNeighborsRegressor()"
      ]
     },
     "execution_count": 13,
     "metadata": {},
     "output_type": "execute_result"
    }
   ],
   "source": [
    "from sklearn.neighbors import KNeighborsRegressor\n",
    "knn = KNeighborsRegressor()\n",
    "knn.fit(X_train, y_train)"
   ]
  },
  {
   "cell_type": "code",
   "execution_count": 14,
   "metadata": {},
   "outputs": [
    {
     "data": {
      "text/plain": [
       "RandomForestRegressor()"
      ]
     },
     "execution_count": 14,
     "metadata": {},
     "output_type": "execute_result"
    }
   ],
   "source": [
    "from sklearn.ensemble import RandomForestRegressor\n",
    "RF = RandomForestRegressor()\n",
    "RF.fit(X_train, y_train)"
   ]
  },
  {
   "cell_type": "code",
   "execution_count": 15,
   "metadata": {},
   "outputs": [
    {
     "name": "stdout",
     "output_type": "stream",
     "text": [
      "[16:50:34] WARNING: src/objective/regression_obj.cu:152: reg:linear is now deprecated in favor of reg:squarederror.\n"
     ]
    },
    {
     "data": {
      "text/plain": [
       "XGBRegressor()"
      ]
     },
     "execution_count": 15,
     "metadata": {},
     "output_type": "execute_result"
    }
   ],
   "source": [
    "from xgboost import XGBRegressor\n",
    "XGB = XGBRegressor()\n",
    "XGB.fit(X_train, y_train)"
   ]
  },
  {
   "cell_type": "code",
   "execution_count": 16,
   "metadata": {},
   "outputs": [
    {
     "data": {
      "text/plain": [
       "DecisionTreeRegressor()"
      ]
     },
     "execution_count": 16,
     "metadata": {},
     "output_type": "execute_result"
    }
   ],
   "source": [
    "from sklearn.tree import DecisionTreeRegressor\n",
    "DT = DecisionTreeRegressor()\n",
    "DT.fit(X_train, y_train)"
   ]
  },
  {
   "cell_type": "markdown",
   "metadata": {},
   "source": [
    "### Evaluation"
   ]
  },
  {
   "cell_type": "code",
   "execution_count": 17,
   "metadata": {},
   "outputs": [
    {
     "data": {
      "text/html": [
       "<div>\n",
       "<style scoped>\n",
       "    .dataframe tbody tr th:only-of-type {\n",
       "        vertical-align: middle;\n",
       "    }\n",
       "\n",
       "    .dataframe tbody tr th {\n",
       "        vertical-align: top;\n",
       "    }\n",
       "\n",
       "    .dataframe thead th {\n",
       "        text-align: right;\n",
       "    }\n",
       "</style>\n",
       "<table border=\"1\" class=\"dataframe\">\n",
       "  <thead>\n",
       "    <tr style=\"text-align: right;\">\n",
       "      <th></th>\n",
       "      <th>train_r2</th>\n",
       "      <th>test_r2</th>\n",
       "      <th>train_rmse</th>\n",
       "      <th>test_rmse</th>\n",
       "      <th>train_mae</th>\n",
       "      <th>test_mae</th>\n",
       "    </tr>\n",
       "  </thead>\n",
       "  <tbody>\n",
       "    <tr>\n",
       "      <th>Lin_Reg</th>\n",
       "      <td>0.348346</td>\n",
       "      <td>0.343411</td>\n",
       "      <td>146.15</td>\n",
       "      <td>147.42</td>\n",
       "      <td>108.088</td>\n",
       "      <td>106.162</td>\n",
       "    </tr>\n",
       "    <tr>\n",
       "      <th>KNN</th>\n",
       "      <td>0.890693</td>\n",
       "      <td>0.822846</td>\n",
       "      <td>59.857</td>\n",
       "      <td>76.5748</td>\n",
       "      <td>39.1397</td>\n",
       "      <td>50.6801</td>\n",
       "    </tr>\n",
       "    <tr>\n",
       "      <th>Rdm_Forest</th>\n",
       "      <td>0.979816</td>\n",
       "      <td>0.868684</td>\n",
       "      <td>25.7213</td>\n",
       "      <td>65.9279</td>\n",
       "      <td>16.5931</td>\n",
       "      <td>44.1139</td>\n",
       "    </tr>\n",
       "    <tr>\n",
       "      <th>XGBoost</th>\n",
       "      <td>0.802633</td>\n",
       "      <td>0.787346</td>\n",
       "      <td>80.4318</td>\n",
       "      <td>83.8972</td>\n",
       "      <td>55.3399</td>\n",
       "      <td>57.0329</td>\n",
       "    </tr>\n",
       "    <tr>\n",
       "      <th>Decision_Tree</th>\n",
       "      <td>0.999595</td>\n",
       "      <td>0.767991</td>\n",
       "      <td>3.6435</td>\n",
       "      <td>87.632</td>\n",
       "      <td>0.22415</td>\n",
       "      <td>55.859</td>\n",
       "    </tr>\n",
       "  </tbody>\n",
       "</table>\n",
       "</div>"
      ],
      "text/plain": [
       "               train_r2   test_r2 train_rmse test_rmse train_mae test_mae\n",
       "Lin_Reg        0.348346  0.343411     146.15    147.42   108.088  106.162\n",
       "KNN            0.890693  0.822846     59.857   76.5748   39.1397  50.6801\n",
       "Rdm_Forest     0.979816  0.868684    25.7213   65.9279   16.5931  44.1139\n",
       "XGBoost        0.802633  0.787346    80.4318   83.8972   55.3399  57.0329\n",
       "Decision_Tree  0.999595  0.767991     3.6435    87.632   0.22415   55.859"
      ]
     },
     "execution_count": 17,
     "metadata": {},
     "output_type": "execute_result"
    }
   ],
   "source": [
    "from sklearn import metrics\n",
    "from sklearn.metrics import mean_squared_error, mean_absolute_error, r2_score\n",
    "\n",
    "eval_scores = pd.DataFrame(columns=['train_r2', 'test_r2', 'train_rmse', 'test_rmse', 'train_mae', 'test_mae'], index=['Lin_Reg', 'KNN', 'Rdm_Forest', 'XGBoost', 'Decision_Tree'])\n",
    "model_dict = {'Lin_Reg': LR, 'KNN': knn, 'Rdm_Forest': RF, 'XGBoost': XGB, 'Decision_Tree': DT}\n",
    "for name, model in model_dict.items():\n",
    "    eval_scores.loc[name, 'train_r2'] = metrics.r2_score(y_true=y_train, y_pred=model.predict(X_train))\n",
    "    eval_scores.loc[name, 'test_r2'] = metrics.r2_score(y_true=y_test, y_pred=model.predict(X_test))\n",
    "    eval_scores.loc[name, 'train_rmse'] = mean_squared_error(y_true=y_train, y_pred=model.predict(X_train))**0.5\n",
    "    eval_scores.loc[name, 'test_rmse'] = mean_squared_error(y_true=y_test, y_pred=model.predict(X_test))**0.5\n",
    "    eval_scores.loc[name, 'train_mae'] = mean_absolute_error(y_true=y_train, y_pred=model.predict(X_train))\n",
    "    eval_scores.loc[name, 'test_mae'] = mean_absolute_error(y_true=y_test, y_pred=model.predict(X_test))\n",
    "    \n",
    "eval_scores"
   ]
  },
  {
   "cell_type": "markdown",
   "metadata": {},
   "source": [
    "From all the metrics from above, we can conclude that the Random Forest Regressor is the best performing model. Focussing on the test data, we observe an R-squared of 87% (which can be improved via hyperparameter tuning) , meaning, 87%  of the variability observed in the bike count/demand is captured by our model and the other 13% being due to some other factors and, of course, randomness. The RMSE tells us that on average, the predictions of the model are ca. 66 from the actual values, while the MAE of ca. 17, informs that, the error the model will make is, on average 17."
   ]
  },
  {
   "cell_type": "code",
   "execution_count": 21,
   "metadata": {},
   "outputs": [
    {
     "data": {
      "text/html": [
       "<div>\n",
       "<style scoped>\n",
       "    .dataframe tbody tr th:only-of-type {\n",
       "        vertical-align: middle;\n",
       "    }\n",
       "\n",
       "    .dataframe tbody tr th {\n",
       "        vertical-align: top;\n",
       "    }\n",
       "\n",
       "    .dataframe thead th {\n",
       "        text-align: right;\n",
       "    }\n",
       "</style>\n",
       "<table border=\"1\" class=\"dataframe\">\n",
       "  <thead>\n",
       "    <tr style=\"text-align: right;\">\n",
       "      <th></th>\n",
       "      <th>y_true</th>\n",
       "      <th>pred_Lin_Reg</th>\n",
       "      <th>pred_KNN</th>\n",
       "      <th>pred_Rdm_Forest</th>\n",
       "      <th>pred_XGBoost</th>\n",
       "      <th>pred_Decision_Tree</th>\n",
       "    </tr>\n",
       "    <tr>\n",
       "      <th>datetime</th>\n",
       "      <th></th>\n",
       "      <th></th>\n",
       "      <th></th>\n",
       "      <th></th>\n",
       "      <th></th>\n",
       "      <th></th>\n",
       "    </tr>\n",
       "  </thead>\n",
       "  <tbody>\n",
       "    <tr>\n",
       "      <th>2011-07-19 11:00:00</th>\n",
       "      <td>127</td>\n",
       "      <td>281.0</td>\n",
       "      <td>165.4</td>\n",
       "      <td>174.3</td>\n",
       "      <td>227.800003</td>\n",
       "      <td>112.0</td>\n",
       "    </tr>\n",
       "    <tr>\n",
       "      <th>2012-01-16 06:00:00</th>\n",
       "      <td>13</td>\n",
       "      <td>-11.5</td>\n",
       "      <td>17.8</td>\n",
       "      <td>12.6</td>\n",
       "      <td>-32.500000</td>\n",
       "      <td>8.0</td>\n",
       "    </tr>\n",
       "    <tr>\n",
       "      <th>2011-12-11 18:00:00</th>\n",
       "      <td>163</td>\n",
       "      <td>228.4</td>\n",
       "      <td>194.2</td>\n",
       "      <td>141.1</td>\n",
       "      <td>262.200012</td>\n",
       "      <td>105.0</td>\n",
       "    </tr>\n",
       "    <tr>\n",
       "      <th>2012-08-15 10:00:00</th>\n",
       "      <td>233</td>\n",
       "      <td>247.1</td>\n",
       "      <td>241.8</td>\n",
       "      <td>182.6</td>\n",
       "      <td>245.800003</td>\n",
       "      <td>249.0</td>\n",
       "    </tr>\n",
       "    <tr>\n",
       "      <th>2012-06-15 23:00:00</th>\n",
       "      <td>222</td>\n",
       "      <td>357.5</td>\n",
       "      <td>122.4</td>\n",
       "      <td>136.8</td>\n",
       "      <td>183.100006</td>\n",
       "      <td>153.0</td>\n",
       "    </tr>\n",
       "    <tr>\n",
       "      <th>2012-11-03 21:00:00</th>\n",
       "      <td>166</td>\n",
       "      <td>273.0</td>\n",
       "      <td>169.8</td>\n",
       "      <td>153.2</td>\n",
       "      <td>161.399994</td>\n",
       "      <td>184.0</td>\n",
       "    </tr>\n",
       "    <tr>\n",
       "      <th>2011-12-16 11:00:00</th>\n",
       "      <td>144</td>\n",
       "      <td>235.8</td>\n",
       "      <td>164.6</td>\n",
       "      <td>159.0</td>\n",
       "      <td>201.300003</td>\n",
       "      <td>189.0</td>\n",
       "    </tr>\n",
       "    <tr>\n",
       "      <th>2011-07-03 15:00:00</th>\n",
       "      <td>376</td>\n",
       "      <td>334.8</td>\n",
       "      <td>374.4</td>\n",
       "      <td>428.7</td>\n",
       "      <td>350.799988</td>\n",
       "      <td>345.0</td>\n",
       "    </tr>\n",
       "    <tr>\n",
       "      <th>2012-11-07 08:00:00</th>\n",
       "      <td>601</td>\n",
       "      <td>139.0</td>\n",
       "      <td>528.8</td>\n",
       "      <td>617.1</td>\n",
       "      <td>398.500000</td>\n",
       "      <td>375.0</td>\n",
       "    </tr>\n",
       "    <tr>\n",
       "      <th>2011-01-02 10:00:00</th>\n",
       "      <td>53</td>\n",
       "      <td>71.9</td>\n",
       "      <td>67.0</td>\n",
       "      <td>68.2</td>\n",
       "      <td>150.500000</td>\n",
       "      <td>20.0</td>\n",
       "    </tr>\n",
       "  </tbody>\n",
       "</table>\n",
       "</div>"
      ],
      "text/plain": [
       "                     y_true  pred_Lin_Reg  pred_KNN  pred_Rdm_Forest  \\\n",
       "datetime                                                               \n",
       "2011-07-19 11:00:00     127         281.0     165.4            174.3   \n",
       "2012-01-16 06:00:00      13         -11.5      17.8             12.6   \n",
       "2011-12-11 18:00:00     163         228.4     194.2            141.1   \n",
       "2012-08-15 10:00:00     233         247.1     241.8            182.6   \n",
       "2012-06-15 23:00:00     222         357.5     122.4            136.8   \n",
       "2012-11-03 21:00:00     166         273.0     169.8            153.2   \n",
       "2011-12-16 11:00:00     144         235.8     164.6            159.0   \n",
       "2011-07-03 15:00:00     376         334.8     374.4            428.7   \n",
       "2012-11-07 08:00:00     601         139.0     528.8            617.1   \n",
       "2011-01-02 10:00:00      53          71.9      67.0             68.2   \n",
       "\n",
       "                     pred_XGBoost  pred_Decision_Tree  \n",
       "datetime                                               \n",
       "2011-07-19 11:00:00    227.800003               112.0  \n",
       "2012-01-16 06:00:00    -32.500000                 8.0  \n",
       "2011-12-11 18:00:00    262.200012               105.0  \n",
       "2012-08-15 10:00:00    245.800003               249.0  \n",
       "2012-06-15 23:00:00    183.100006               153.0  \n",
       "2012-11-03 21:00:00    161.399994               184.0  \n",
       "2011-12-16 11:00:00    201.300003               189.0  \n",
       "2011-07-03 15:00:00    350.799988               345.0  \n",
       "2012-11-07 08:00:00    398.500000               375.0  \n",
       "2011-01-02 10:00:00    150.500000                20.0  "
      ]
     },
     "execution_count": 21,
     "metadata": {},
     "output_type": "execute_result"
    }
   ],
   "source": [
    "# Lets compare the actual and predicted prices for all the models\n",
    "demo_pred = X_test.iloc[:10].copy()\n",
    "pred_dict = {'y_true':y_test[:10]}\n",
    "for name, model in model_dict.items():\n",
    "    pred_dict['pred_'+name] = model.predict(demo_pred).round(1)\n",
    "\n",
    "pd.DataFrame(pred_dict)"
   ]
  },
  {
   "cell_type": "markdown",
   "metadata": {},
   "source": [
    "### Continue with Best Model, i.e Random Forest"
   ]
  },
  {
   "cell_type": "code",
   "execution_count": 22,
   "metadata": {},
   "outputs": [
    {
     "data": {
      "text/html": [
       "<div>\n",
       "<style scoped>\n",
       "    .dataframe tbody tr th:only-of-type {\n",
       "        vertical-align: middle;\n",
       "    }\n",
       "\n",
       "    .dataframe tbody tr th {\n",
       "        vertical-align: top;\n",
       "    }\n",
       "\n",
       "    .dataframe thead th {\n",
       "        text-align: right;\n",
       "    }\n",
       "</style>\n",
       "<table border=\"1\" class=\"dataframe\">\n",
       "  <thead>\n",
       "    <tr style=\"text-align: right;\">\n",
       "      <th></th>\n",
       "      <th>y_true</th>\n",
       "      <th>y_pred</th>\n",
       "      <th>residuals</th>\n",
       "      <th>prop_error</th>\n",
       "    </tr>\n",
       "    <tr>\n",
       "      <th>datetime</th>\n",
       "      <th></th>\n",
       "      <th></th>\n",
       "      <th></th>\n",
       "      <th></th>\n",
       "    </tr>\n",
       "  </thead>\n",
       "  <tbody>\n",
       "    <tr>\n",
       "      <th>2011-07-19 11:00:00</th>\n",
       "      <td>127</td>\n",
       "      <td>174.30</td>\n",
       "      <td>-47.30</td>\n",
       "      <td>0.372441</td>\n",
       "    </tr>\n",
       "    <tr>\n",
       "      <th>2012-01-16 06:00:00</th>\n",
       "      <td>13</td>\n",
       "      <td>12.63</td>\n",
       "      <td>0.37</td>\n",
       "      <td>0.028462</td>\n",
       "    </tr>\n",
       "    <tr>\n",
       "      <th>2011-12-11 18:00:00</th>\n",
       "      <td>163</td>\n",
       "      <td>141.11</td>\n",
       "      <td>21.89</td>\n",
       "      <td>0.134294</td>\n",
       "    </tr>\n",
       "    <tr>\n",
       "      <th>2012-08-15 10:00:00</th>\n",
       "      <td>233</td>\n",
       "      <td>182.61</td>\n",
       "      <td>50.39</td>\n",
       "      <td>0.216266</td>\n",
       "    </tr>\n",
       "    <tr>\n",
       "      <th>2012-06-15 23:00:00</th>\n",
       "      <td>222</td>\n",
       "      <td>136.82</td>\n",
       "      <td>85.18</td>\n",
       "      <td>0.383694</td>\n",
       "    </tr>\n",
       "    <tr>\n",
       "      <th>...</th>\n",
       "      <td>...</td>\n",
       "      <td>...</td>\n",
       "      <td>...</td>\n",
       "      <td>...</td>\n",
       "    </tr>\n",
       "    <tr>\n",
       "      <th>2012-04-05 06:00:00</th>\n",
       "      <td>126</td>\n",
       "      <td>71.88</td>\n",
       "      <td>54.12</td>\n",
       "      <td>0.429524</td>\n",
       "    </tr>\n",
       "    <tr>\n",
       "      <th>2011-10-11 22:00:00</th>\n",
       "      <td>147</td>\n",
       "      <td>190.24</td>\n",
       "      <td>-43.24</td>\n",
       "      <td>0.294150</td>\n",
       "    </tr>\n",
       "    <tr>\n",
       "      <th>2011-04-03 02:00:00</th>\n",
       "      <td>24</td>\n",
       "      <td>37.44</td>\n",
       "      <td>-13.44</td>\n",
       "      <td>0.560000</td>\n",
       "    </tr>\n",
       "    <tr>\n",
       "      <th>2011-12-19 02:00:00</th>\n",
       "      <td>3</td>\n",
       "      <td>3.52</td>\n",
       "      <td>-0.52</td>\n",
       "      <td>0.173333</td>\n",
       "    </tr>\n",
       "    <tr>\n",
       "      <th>2011-06-04 06:00:00</th>\n",
       "      <td>28</td>\n",
       "      <td>46.90</td>\n",
       "      <td>-18.90</td>\n",
       "      <td>0.675000</td>\n",
       "    </tr>\n",
       "  </tbody>\n",
       "</table>\n",
       "<p>1089 rows × 4 columns</p>\n",
       "</div>"
      ],
      "text/plain": [
       "                     y_true  y_pred  residuals  prop_error\n",
       "datetime                                                  \n",
       "2011-07-19 11:00:00     127  174.30     -47.30    0.372441\n",
       "2012-01-16 06:00:00      13   12.63       0.37    0.028462\n",
       "2011-12-11 18:00:00     163  141.11      21.89    0.134294\n",
       "2012-08-15 10:00:00     233  182.61      50.39    0.216266\n",
       "2012-06-15 23:00:00     222  136.82      85.18    0.383694\n",
       "...                     ...     ...        ...         ...\n",
       "2012-04-05 06:00:00     126   71.88      54.12    0.429524\n",
       "2011-10-11 22:00:00     147  190.24     -43.24    0.294150\n",
       "2011-04-03 02:00:00      24   37.44     -13.44    0.560000\n",
       "2011-12-19 02:00:00       3    3.52      -0.52    0.173333\n",
       "2011-06-04 06:00:00      28   46.90     -18.90    0.675000\n",
       "\n",
       "[1089 rows x 4 columns]"
      ]
     },
     "execution_count": 22,
     "metadata": {},
     "output_type": "execute_result"
    }
   ],
   "source": [
    "# Calculate Residuals & the percentage that the absolute value of the residual represents w.r.t the actual price\n",
    "y_pred = RF.predict(X_test)\n",
    "eval_df = pd.DataFrame({\"y_true\": y_test, \"y_pred\": y_pred})\n",
    "eval_df[\"residuals\"] = y_test - y_pred\n",
    "eval_df[\"prop_error\"] = eval_df[\"residuals\"].abs()/eval_df[\"y_true\"]\n",
    "eval_df "
   ]
  },
  {
   "cell_type": "code",
   "execution_count": 26,
   "metadata": {},
   "outputs": [
    {
     "name": "stdout",
     "output_type": "stream",
     "text": [
      "Custom metric: 32.78%\n"
     ]
    }
   ],
   "source": [
    "# calculate the percentage of predictions under a perticular number, e.g. 15%\n",
    "\n",
    "costum_metric = 100*(eval_df[\"prop_error\"] < 0.15).mean()\n",
    "print(\"Custom metric: {:,.2f}%\".format(costum_metric))"
   ]
  },
  {
   "cell_type": "markdown",
   "metadata": {},
   "source": [
    "From above, 32.78% of the predictions we are making have an error that is less than 15% of the actual price, which is actually not the best."
   ]
  },
  {
   "cell_type": "code",
   "execution_count": 28,
   "metadata": {
    "scrolled": true
   },
   "outputs": [
    {
     "data": {
      "image/png": "[encoded data removed]",
      "text/plain": [
       "<Figure size 432x288 with 1 Axes>"
      ]
     },
     "metadata": {
      "needs_background": "light"
     },
     "output_type": "display_data"
    }
   ],
   "source": [
    "# Visualizing Residuals\n",
    "\n",
    "eval_df[\"residuals\"].hist(bins=25, ec='k');"
   ]
  },
  {
   "cell_type": "code",
   "execution_count": 29,
   "metadata": {},
   "outputs": [
    {
     "data": {
      "text/plain": [
       "0.5482093663911846"
      ]
     },
     "execution_count": 29,
     "metadata": {},
     "output_type": "execute_result"
    }
   ],
   "source": [
    "# Percentage negative residuals\n",
    "(eval_df[\"residuals\"] <=0).mean()"
   ]
  },
  {
   "cell_type": "markdown",
   "metadata": {},
   "source": [
    "Ca. 55% percent of the residuals are negative, which implies that the model might be systematically overestimating the count."
   ]
  },
  {
   "cell_type": "code",
   "execution_count": 33,
   "metadata": {},
   "outputs": [
    {
     "data": {
      "image/png": "[encoded data removed]",
      "text/plain": [
       "<Figure size 576x360 with 1 Axes>"
      ]
     },
     "metadata": {
      "needs_background": "light"
     },
     "output_type": "display_data"
    }
   ],
   "source": [
    "# Visualizing the actual versus the predicted prices:\n",
    "\n",
    "fig, ax = plt.subplots(figsize=(8,5))\n",
    "ax.scatter(eval_df[\"y_true\"], eval_df[\"y_pred\"], s=3)\n",
    "ax.plot(eval_df[\"y_true\"], eval_df[\"y_true\"], color='red')\n",
    "ax.set_title('Predictions vs. observed values')\n",
    "ax.set_xlabel('Observed Demand')\n",
    "ax.set_ylabel('Predicted Demand')\n",
    "ax.grid();"
   ]
  },
  {
   "cell_type": "code",
   "execution_count": 32,
   "metadata": {
    "scrolled": true
   },
   "outputs": [
    {
     "data": {
      "image/png": "[encoded data removed]",
      "text/plain": [
       "<Figure size 576x360 with 1 Axes>"
      ]
     },
     "metadata": {
      "needs_background": "light"
     },
     "output_type": "display_data"
    }
   ],
   "source": [
    "# Visualizing the Residuals versus the observed prices:\n",
    "\n",
    "fig, ax = plt.subplots(figsize=(8,5))\n",
    "ax.scatter(eval_df[\"y_true\"], eval_df[\"residuals\"], s=3)\n",
    "ax.set_title('Residuals vs. Observed Demand')\n",
    "ax.set_xlabel('Observed Demand')\n",
    "ax.set_ylabel('Residuals')\n",
    "ax.grid();"
   ]
  },
  {
   "cell_type": "code",
   "execution_count": null,
   "metadata": {},
   "outputs": [],
   "source": []
  },
  {
   "cell_type": "code",
   "execution_count": null,
   "metadata": {},
   "outputs": [],
   "source": []
  },
  {
   "cell_type": "code",
   "execution_count": null,
   "metadata": {},
   "outputs": [],
   "source": []
  },
  {
   "cell_type": "code",
   "execution_count": null,
   "metadata": {},
   "outputs": [],
   "source": []
  }
 ],
 "metadata": {
  "kernelspec": {
   "display_name": "Python 3",
   "language": "python",
   "name": "python3"
  },
  "language_info": {
   "codemirror_mode": {
    "name": "ipython",
    "version": 3
   },
   "file_extension": ".py",
   "mimetype": "text/x-python",
   "name": "python",
   "nbconvert_exporter": "python",
   "pygments_lexer": "ipython3",
   "version": "3.7.6"
  }
 },
 "nbformat": 4,
 "nbformat_minor": 4
}
